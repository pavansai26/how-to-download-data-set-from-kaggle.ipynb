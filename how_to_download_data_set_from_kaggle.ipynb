{
  "nbformat": 4,
  "nbformat_minor": 0,
  "metadata": {
    "colab": {
      "name": "how to download data set from kaggle.ipynb",
      "provenance": [],
      "private_outputs": true,
      "authorship_tag": "ABX9TyNt+73HXXM4BSXowo1depyF",
      "include_colab_link": true
    },
    "kernelspec": {
      "name": "python3",
      "display_name": "Python 3"
    }
  },
  "cells": [
    {
      "cell_type": "markdown",
      "metadata": {
        "id": "view-in-github",
        "colab_type": "text"
      },
      "source": [
        "<a href=\"https://colab.research.google.com/github/pavansai26/how-to-download-data-set-from-kaggle.ipynb/blob/main/how_to_download_data_set_from_kaggle.ipynb\" target=\"_parent\"><img src=\"https://colab.research.google.com/assets/colab-badge.svg\" alt=\"Open In Colab\"/></a>"
      ]
    },
    {
      "cell_type": "code",
      "metadata": {
        "id": "TYwrzddqUjwC"
      },
      "source": [
        "from google.colab import drive\n",
        "drive.mount('/gdrive')"
      ],
      "execution_count": null,
      "outputs": []
    },
    {
      "cell_type": "code",
      "metadata": {
        "id": "O80pX_J9U9D2"
      },
      "source": [
        "from google.colab import files\n",
        "files.upload() #this will prompt you to upload the kaggle.json"
      ],
      "execution_count": null,
      "outputs": []
    },
    {
      "cell_type": "markdown",
      "metadata": {
        "id": "PG2d4CpSMDxP"
      },
      "source": [
        "# **step 1: open your google drive**"
      ]
    },
    {
      "cell_type": "markdown",
      "metadata": {
        "id": "2_jXcQkjMKOu"
      },
      "source": [
        "# **step 2: create one folder  with name as competitions**"
      ]
    },
    {
      "cell_type": "markdown",
      "metadata": {
        "id": "B7JsakG5O1Md"
      },
      "source": [
        "# **step 3: create another folder in the competitions folder as kaggle**"
      ]
    },
    {
      "cell_type": "markdown",
      "metadata": {
        "id": "COMXgGdfPUTB"
      },
      "source": [
        "# **Now you are ready to move to Google Colab and follow the set-up steps below. Mount your Google Drive filesFollowing code make mount your google drive**"
      ]
    },
    {
      "cell_type": "markdown",
      "metadata": {
        "id": "AEvqHSfPPhmU"
      },
      "source": [
        "# **Kaggle APIGo to the Kaggle, click the “My Account” section and create a new API Token**"
      ]
    },
    {
      "cell_type": "markdown",
      "metadata": {
        "id": "QkfiU56NPu5t"
      },
      "source": [
        "# **You will have the Kaggle.json file.Upload kaggle.json file to collab**"
      ]
    },
    {
      "cell_type": "markdown",
      "metadata": {
        "id": "-ZnVNvqOP3oL"
      },
      "source": [
        "# **Set up .kaggle directory**"
      ]
    },
    {
      "cell_type": "markdown",
      "metadata": {
        "id": "jzq_JYwCQKtC"
      },
      "source": [
        "# **Now you are ready to download the competition datasets and kernels into the Google Drive folder that we created before**"
      ]
    },
    {
      "cell_type": "markdown",
      "metadata": {
        "id": "XrgUdEWsQa-D"
      },
      "source": [
        "# **Download any competitions datasets Note: Before doing this part, you need to open Kaggle competition and accept the competition rules!**"
      ]
    },
    {
      "cell_type": "markdown",
      "metadata": {
        "id": "o0CSKlgnQkQl"
      },
      "source": [
        "# **Check your directory before**"
      ]
    },
    {
      "cell_type": "markdown",
      "metadata": {
        "id": "DgheY4ILQqHl"
      },
      "source": [
        "# **download the datasets**"
      ]
    },
    {
      "cell_type": "markdown",
      "metadata": {
        "id": "WexoNNpkRFHE"
      },
      "source": [
        "# Pull your kernel, it is essential to add “-m” for generating when pulling the kernel.\n",
        "# user-name/kernel-name you can copy paste from your kernel list\n",
        "\n",
        "#!kaggle kernels pull USER-NAME/YOUR-KERNEL-NAME -m"
      ]
    },
    {
      "cell_type": "markdown",
      "metadata": {
        "id": "fmzMcmUeRkga"
      },
      "source": [
        "# **Now you are ready After when you finish, you can push the file to Kaggle.**"
      ]
    },
    {
      "cell_type": "markdown",
      "metadata": {
        "id": "dz0kna2DRuw2"
      },
      "source": [
        "# **!kaggle kernels push**"
      ]
    },
    {
      "cell_type": "markdown",
      "metadata": {
        "id": "E22MK9yGRyZV"
      },
      "source": [
        "# **use this command after running this command you will get one kaggle link please open that**"
      ]
    },
    {
      "cell_type": "code",
      "metadata": {
        "id": "K_omGif_VQPC"
      },
      "source": [
        "!pip install -q kaggle\n",
        "!mkdir -p ~/.kaggle\n",
        "!cp kaggle.json ~/.kaggle/\n",
        "!ls ~/.kaggle\n"
      ],
      "execution_count": null,
      "outputs": []
    },
    {
      "cell_type": "code",
      "metadata": {
        "id": "94j_d8lLKIfW"
      },
      "source": [
        "pip install kaggle --upgrade"
      ],
      "execution_count": null,
      "outputs": []
    },
    {
      "cell_type": "code",
      "metadata": {
        "id": "0FdeevovHnFa"
      },
      "source": [
        "# we need to set permissions \n",
        "!chmod 600 /root/.kaggle/kaggle.json"
      ],
      "execution_count": null,
      "outputs": []
    },
    {
      "cell_type": "code",
      "metadata": {
        "id": "RCbsxOmKZMdY"
      },
      "source": [
        "import os\n",
        "os.chdir('/gdrive/My Drive/competitions/kaggle/kaggle-cropproduction/input')\n",
        "#change dir\n"
      ],
      "execution_count": null,
      "outputs": []
    },
    {
      "cell_type": "code",
      "metadata": {
        "id": "B_n03f66ZQ0w"
      },
      "source": [
        "!pwd"
      ],
      "execution_count": null,
      "outputs": []
    },
    {
      "cell_type": "code",
      "metadata": {
        "id": "_6AGKVOMHxq8"
      },
      "source": [
        "!kaggle competitions download -c 'titanic'"
      ],
      "execution_count": null,
      "outputs": []
    },
    {
      "cell_type": "code",
      "metadata": {
        "id": "ZDNTYoerKrXn"
      },
      "source": [
        ""
      ],
      "execution_count": null,
      "outputs": []
    }
  ]
}